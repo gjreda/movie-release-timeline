{
 "metadata": {
  "name": ""
 },
 "nbformat": 3,
 "nbformat_minor": 0,
 "worksheets": [
  {
   "cells": [
    {
     "cell_type": "code",
     "collapsed": false,
     "input": [
      "import pandas as pd\n",
      "import matplotlib.pyplot as plt\n",
      "from datetime import datetime, timedelta\n",
      "import re"
     ],
     "language": "python",
     "metadata": {},
     "outputs": [],
     "prompt_number": 1
    },
    {
     "cell_type": "markdown",
     "metadata": {},
     "source": [
      "TV shows and Video Games are marked with (TV) and (VG) - what else is in this file?"
     ]
    },
    {
     "cell_type": "code",
     "collapsed": false,
     "input": [
      "!grep -o -e ' ([0-9]*) ([A-Z]*)' data/release-dates.list | grep -o -e '([A-Z]*)' | sort | uniq -c"
     ],
     "language": "python",
     "metadata": {},
     "outputs": [
      {
       "output_type": "stream",
       "stream": "stdout",
       "text": [
        "117611 (TV)\r\n"
       ]
      },
      {
       "output_type": "stream",
       "stream": "stdout",
       "text": [
        "105053 (V)\r\n"
       ]
      },
      {
       "output_type": "stream",
       "stream": "stdout",
       "text": [
        "19827 (VG)\r\n"
       ]
      }
     ],
     "prompt_number": 2
    },
    {
     "cell_type": "markdown",
     "metadata": {},
     "source": [
      "Movies only - no titles enclosed in double quotes, marked as \"(TV)\", or video games \"(VG)\". Keep movies that went straight to video (V)."
     ]
    },
    {
     "cell_type": "code",
     "collapsed": false,
     "input": [
      "!grep -v '^\\\".*\\\"' data/release-dates.list | grep -v ' (TV)' | grep -v ' (VG)' > data/movie-release-dates.list"
     ],
     "language": "python",
     "metadata": {},
     "outputs": [],
     "prompt_number": 3
    },
    {
     "cell_type": "code",
     "collapsed": false,
     "input": [
      "!head -n 1000 data/movie-release-dates.list > data/sample.list"
     ],
     "language": "python",
     "metadata": {},
     "outputs": [],
     "prompt_number": 4
    },
    {
     "cell_type": "markdown",
     "metadata": {},
     "source": [
      "Read + parse file"
     ]
    },
    {
     "cell_type": "code",
     "collapsed": false,
     "input": [
      "FILE = 'data/movie-release-dates.list'\n",
      "# FILE = 'sample.list'"
     ],
     "language": "python",
     "metadata": {},
     "outputs": [],
     "prompt_number": 5
    },
    {
     "cell_type": "code",
     "collapsed": false,
     "input": [
      "with open(FILE, 'r') as f:\n",
      "    lines = f.readlines()"
     ],
     "language": "python",
     "metadata": {},
     "outputs": [],
     "prompt_number": 6
    },
    {
     "cell_type": "code",
     "collapsed": false,
     "input": [
      "def parse_date(d):\n",
      "    \"\"\"\n",
      "    Returns a datetime object for the movie's release.\n",
      "    Uses the 15th if there's only a month and year.\n",
      "    Uses July 2nd if there's only a year.\n",
      "    \"\"\"\n",
      "    d = d.strip()\n",
      "    if re.findall(r'^[0-9]+ [A-Za-z]+ [0-9]{4}', d):\n",
      "        release_date = re.findall(r'^[0-9]+ [A-Za-z]+ [0-9]{4}', d)[0]\n",
      "        release_date = datetime.strptime(release_date, '%d %B %Y')\n",
      "    elif re.findall(r'^[A-Za-z]+ [0-9]{4}', d):\n",
      "        release_date = re.findall(r'^[A-Za-z]+ [0-9]{4}', d)[0]\n",
      "        release_date = datetime.strptime('15 ' + release_date, '%d %B %Y')\n",
      "    elif re.findall(r'^[0-9]{4}', d):\n",
      "        release_date = re.findall(r'^[0-9]{4}', d)[0]\n",
      "        release_date = datetime.strptime('2 July ' + release_date, '%d %B %Y')\n",
      "    return release_date"
     ],
     "language": "python",
     "metadata": {},
     "outputs": [],
     "prompt_number": 7
    },
    {
     "cell_type": "code",
     "collapsed": false,
     "input": [
      "movies = []\n",
      "errors = []\n",
      "# first 15 lines are headers; last line is '----------'\n",
      "for line in lines[15:-1]:\n",
      "    title = line.partition('\\t')[0]\n",
      "    release = line.partition('\\t')[2].strip()\n",
      "    try:\n",
      "        if ':' in release:\n",
      "            country = release.partition(':')[0]\n",
      "            release_date = parse_date(release.partition(':')[2])\n",
      "        else:\n",
      "            release_date = parse_date(release)\n",
      "        movies.append({'title': title, 'country': country, 'release_date': release_date})\n",
      "    except Exception as e:\n",
      "        print line\n",
      "        errors.append({'error': str(e), 'title': title, 'release': release})\n",
      "        continue\n",
      "\n",
      "print 'unable to load {} movies'.format(len(errors))\n",
      "print '{} movie releases loaded'.format(len(movies))"
     ],
     "language": "python",
     "metadata": {},
     "outputs": [
      {
       "output_type": "stream",
       "stream": "stdout",
       "text": [
        "unable to load 0 movies\n",
        "1273646 movie releases loaded\n"
       ]
      }
     ],
     "prompt_number": 8
    },
    {
     "cell_type": "code",
     "collapsed": false,
     "input": [
      "releases = pd.DataFrame(movies)\n",
      "releases.head()"
     ],
     "language": "python",
     "metadata": {},
     "outputs": [
      {
       "html": [
        "<div style=\"max-height:1000px;max-width:1500px;overflow:auto;\">\n",
        "<table border=\"1\" class=\"dataframe\">\n",
        "  <thead>\n",
        "    <tr style=\"text-align: right;\">\n",
        "      <th></th>\n",
        "      <th>country</th>\n",
        "      <th>release_date</th>\n",
        "      <th>title</th>\n",
        "    </tr>\n",
        "  </thead>\n",
        "  <tbody>\n",
        "    <tr>\n",
        "      <th>0</th>\n",
        "      <td>         USA</td>\n",
        "      <td>2010-04-28 00:00:00</td>\n",
        "      <td>                      #1 (2010)</td>\n",
        "    </tr>\n",
        "    <tr>\n",
        "      <th>1</th>\n",
        "      <td>         USA</td>\n",
        "      <td>2010-03-26 00:00:00</td>\n",
        "      <td>                #1 (2010/I) (V)</td>\n",
        "    </tr>\n",
        "    <tr>\n",
        "      <th>2</th>\n",
        "      <td>         USA</td>\n",
        "      <td>2010-07-27 00:00:00</td>\n",
        "      <td> #1 Cheerleader Camp (2010) (V)</td>\n",
        "    </tr>\n",
        "    <tr>\n",
        "      <th>3</th>\n",
        "      <td>       Japan</td>\n",
        "      <td>2011-02-23 00:00:00</td>\n",
        "      <td> #1 Cheerleader Camp (2010) (V)</td>\n",
        "    </tr>\n",
        "    <tr>\n",
        "      <th>4</th>\n",
        "      <td> Netherlands</td>\n",
        "      <td>2013-03-28 00:00:00</td>\n",
        "      <td> #1 Cheerleader Camp (2010) (V)</td>\n",
        "    </tr>\n",
        "  </tbody>\n",
        "</table>\n",
        "</div>"
       ],
       "metadata": {},
       "output_type": "pyout",
       "prompt_number": 9,
       "text": [
        "       country        release_date                           title\n",
        "0          USA 2010-04-28 00:00:00                       #1 (2010)\n",
        "1          USA 2010-03-26 00:00:00                 #1 (2010/I) (V)\n",
        "2          USA 2010-07-27 00:00:00  #1 Cheerleader Camp (2010) (V)\n",
        "3        Japan 2011-02-23 00:00:00  #1 Cheerleader Camp (2010) (V)\n",
        "4  Netherlands 2013-03-28 00:00:00  #1 Cheerleader Camp (2010) (V)"
       ]
      }
     ],
     "prompt_number": 9
    },
    {
     "cell_type": "markdown",
     "metadata": {},
     "source": [
      "Use the first release date for each title (i.e. only count the release once - not for each country)"
     ]
    },
    {
     "cell_type": "code",
     "collapsed": false,
     "input": [
      "releases = releases.groupby('title')['release_date'].min()"
     ],
     "language": "python",
     "metadata": {},
     "outputs": [],
     "prompt_number": 10
    },
    {
     "cell_type": "markdown",
     "metadata": {},
     "source": [
      "Remove movies with future release dates"
     ]
    },
    {
     "cell_type": "code",
     "collapsed": false,
     "input": [
      "# today = 2013-01-21 at time of authorship - a later date changes the resulting midpoint date\n",
      "releases = releases[releases <= datetime.today()]"
     ],
     "language": "python",
     "metadata": {},
     "outputs": [],
     "prompt_number": 11
    },
    {
     "cell_type": "code",
     "collapsed": false,
     "input": [
      "releases.sort('release_date')\n",
      "releases = releases.reset_index()\n",
      "releases.columns = ['title', 'release_date']\n",
      "releases['counter'] = np.arange(len(releases)) + 1\n",
      "releases['percentage'] = releases.counter / float(len(releases))\n",
      "releases.set_index('release_date', inplace=True)"
     ],
     "language": "python",
     "metadata": {},
     "outputs": [],
     "prompt_number": 12
    },
    {
     "cell_type": "code",
     "collapsed": false,
     "input": [
      "midpoint = releases[releases.percentage.round(5) == 0.5000].index.unique()\n",
      "midpoint"
     ],
     "language": "python",
     "metadata": {},
     "outputs": [
      {
       "metadata": {},
       "output_type": "pyout",
       "prompt_number": 13,
       "text": [
        "<class 'pandas.tseries.index.DatetimeIndex'>\n",
        "[2002-05-15 00:00:00]\n",
        "Length: 1, Freq: None, Timezone: None"
       ]
      }
     ],
     "prompt_number": 13
    },
    {
     "cell_type": "code",
     "collapsed": false,
     "input": [
      "plt.figure(figsize=(16, 8))\n",
      "plt.title('Movie releases over time')\n",
      "releases.percentage.plot()\n",
      "plt.yticks(np.arange(0, 1.01, 0.1))\n",
      "plt.ylabel('% of all movies released')\n",
      "plt.xticks([releases.index.min(), releases.index.max()])\n",
      "plt.xlabel('Date')\n",
      "plt.vlines(midpoint, 0, 1.0, linestyles='--', colors='r');"
     ],
     "language": "python",
     "metadata": {},
     "outputs": [
      {
       "metadata": {},
       "output_type": "display_data",
       "png": "[encoded data removed]",
       "text": [
        "<matplotlib.figure.Figure at 0x112e2ecd0>"
       ]
      }
     ],
     "prompt_number": 14
    },
    {
     "cell_type": "markdown",
     "metadata": {},
     "source": [
      "Restructure for d3js chart"
     ]
    },
    {
     "cell_type": "code",
     "collapsed": false,
     "input": [
      "output = releases.reset_index()\n",
      "to_s = lambda d: d.isoformat()[:7] # datetime.strftime can't handle pre-1900 dates\n",
      "output['release_date'] = output.release_date.apply(to_s)"
     ],
     "language": "python",
     "metadata": {},
     "outputs": [],
     "prompt_number": 15
    },
    {
     "cell_type": "code",
     "collapsed": false,
     "input": [
      "output = output.groupby('release_date').size()"
     ],
     "language": "python",
     "metadata": {},
     "outputs": [],
     "prompt_number": 16
    },
    {
     "cell_type": "code",
     "collapsed": false,
     "input": [
      "output = output.reset_index()\n",
      "output.columns = ['release_date', 'films']\n",
      "output['percentage'] = output.films / float(output.films.sum())\n",
      "output['cumulative'] = output.percentage.cumsum()\n",
      "output.tail()"
     ],
     "language": "python",
     "metadata": {},
     "outputs": [
      {
       "html": [
        "<div style=\"max-height:1000px;max-width:1500px;overflow:auto;\">\n",
        "<table border=\"1\" class=\"dataframe\">\n",
        "  <thead>\n",
        "    <tr style=\"text-align: right;\">\n",
        "      <th></th>\n",
        "      <th>release_date</th>\n",
        "      <th>films</th>\n",
        "      <th>percentage</th>\n",
        "      <th>cumulative</th>\n",
        "    </tr>\n",
        "  </thead>\n",
        "  <tbody>\n",
        "    <tr>\n",
        "      <th>1429</th>\n",
        "      <td> 2013-09</td>\n",
        "      <td> 2751</td>\n",
        "      <td> 0.004671</td>\n",
        "      <td> 0.987307</td>\n",
        "    </tr>\n",
        "    <tr>\n",
        "      <th>1430</th>\n",
        "      <td> 2013-10</td>\n",
        "      <td> 2983</td>\n",
        "      <td> 0.005065</td>\n",
        "      <td> 0.992372</td>\n",
        "    </tr>\n",
        "    <tr>\n",
        "      <th>1431</th>\n",
        "      <td> 2013-11</td>\n",
        "      <td> 2082</td>\n",
        "      <td> 0.003535</td>\n",
        "      <td> 0.995908</td>\n",
        "    </tr>\n",
        "    <tr>\n",
        "      <th>1432</th>\n",
        "      <td> 2013-12</td>\n",
        "      <td> 1613</td>\n",
        "      <td> 0.002739</td>\n",
        "      <td> 0.998647</td>\n",
        "    </tr>\n",
        "    <tr>\n",
        "      <th>1433</th>\n",
        "      <td> 2014-01</td>\n",
        "      <td>  797</td>\n",
        "      <td> 0.001353</td>\n",
        "      <td> 1.000000</td>\n",
        "    </tr>\n",
        "  </tbody>\n",
        "</table>\n",
        "</div>"
       ],
       "metadata": {},
       "output_type": "pyout",
       "prompt_number": 17,
       "text": [
        "     release_date  films  percentage  cumulative\n",
        "1429      2013-09   2751    0.004671    0.987307\n",
        "1430      2013-10   2983    0.005065    0.992372\n",
        "1431      2013-11   2082    0.003535    0.995908\n",
        "1432      2013-12   1613    0.002739    0.998647\n",
        "1433      2014-01    797    0.001353    1.000000"
       ]
      }
     ],
     "prompt_number": 17
    },
    {
     "cell_type": "code",
     "collapsed": false,
     "input": [
      "output.to_csv('/Users/greda/Dropbox/gregreda.com/_code/movie-release-timeline/data/movie-releases.tsv',\n",
      "              sep='\\t', index=False, float_format='%.6f')"
     ],
     "language": "python",
     "metadata": {},
     "outputs": [],
     "prompt_number": 18
    }
   ],
   "metadata": {}
  }
 ]
}